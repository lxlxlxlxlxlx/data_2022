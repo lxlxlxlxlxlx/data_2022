{
 "cells": [
  {
   "cell_type": "code",
   "execution_count": 1,
   "id": "bceb76ff-17e1-4021-ae1f-2c01dac6cc2f",
   "metadata": {},
   "outputs": [],
   "source": [
    "import torch\n",
    "import torch.nn as nn\n",
    "import numpy as np\n",
    "from torch.distributions import Normal, Bernoulli"
   ]
  },
  {
   "cell_type": "code",
   "execution_count": 2,
   "metadata": {},
   "outputs": [],
   "source": [
    "class FullyConnected(nn.Sequential):\n",
    "    \"\"\"\n",
    "    Fully connected multi-layer network with ELU activations.\n",
    "    \"\"\"\n",
    "    def __init__(self, sizes, final_activation=True):\n",
    "        layers = []\n",
    "        for in_size, out_size in zip(sizes, sizes[1:]):\n",
    "            layers.append(nn.Linear(in_size, out_size))\n",
    "            layers.append(nn.ELU())\n",
    "        if not final_activation:\n",
    "            layers.pop(-1)\n",
    "        super().__init__(*layers)\n",
    "\n",
    "    def append(self, layer):\n",
    "        assert isinstance(layer, nn.Module)\n",
    "        self.add_module(str(len(self)), layer)"
   ]
  },
  {
   "cell_type": "code",
   "execution_count": 61,
   "metadata": {},
   "outputs": [],
   "source": [
    "class BernNet(nn.Module):\n",
    "    \"\"\"\n",
    "    Bernoulli network.\n",
    "    \"\"\"\n",
    "    def __init__(self, sizes):\n",
    "        super().__init__()\n",
    "        self.fc = FullyConnected(sizes+[1])\n",
    "\n",
    "    def forward(self, x):\n",
    "        return self.fc(x) # logits\n",
    "\n",
    "    def sample(self, logits):\n",
    "        return Bernoulli(logits=logits).sample()"
   ]
  },
  {
   "cell_type": "code",
   "execution_count": 62,
   "metadata": {},
   "outputs": [],
   "source": [
    "class GaussianNet(nn.Module):\n",
    "    \"\"\"\n",
    "    Gaussian network.\n",
    "    \"\"\"\n",
    "    def __init__(self, sizes):\n",
    "        super().__init__()\n",
    "        self.fc = FullyConnected(sizes+[2])\n",
    "\n",
    "    def forward(self, x):\n",
    "        mu, logvar = self.fc(x)\n",
    "        return mu, logvar\n",
    "\n",
    "    def sample(self, mu, logvar):\n",
    "        return Normal(mu, logvar.exp()).sample()"
   ]
  },
  {
   "cell_type": "code",
   "execution_count": null,
   "id": "e0ef02fb-b912-40bc-8a36-6772180ea58f",
   "metadata": {},
   "outputs": [],
   "source": [
    "class CEVAE(nn.module):\n",
    "    def __init__(self, input_size, latent_size=20, hidden_size=[256,256]):\n",
    "        super(CEVAE, self).__init__()\n",
    "        # Decoder\n",
    "        self.x1 = BernNet([input_size]+hidden_size+[latent_size])\n",
    "        \n",
    "\n",
    "    def forward(self, x):\n",
    "        z = self.encoder(x)\n",
    "        x_hat = self.decoder(z)\n",
    "        return x_hat, z\n",
    "    def sample(self, z):\n",
    "        x_hat = self.decoder(z)\n",
    "        return x_hat"
   ]
  }
 ],
 "metadata": {
  "environment": {
   "kernel": "python3",
   "name": "pytorch-gpu.1-9.m82",
   "type": "gcloud",
   "uri": "gcr.io/deeplearning-platform-release/pytorch-gpu.1-9:m82"
  },
  "interpreter": {
   "hash": "d4d1e4263499bec80672ea0156c357c1ee493ec2b1c70f0acce89fc37c4a6abe"
  },
  "kernelspec": {
   "display_name": "Python 3.7.10 64-bit ('base': conda)",
   "name": "python3"
  },
  "language_info": {
   "codemirror_mode": {
    "name": "ipython",
    "version": 3
   },
   "file_extension": ".py",
   "mimetype": "text/x-python",
   "name": "python",
   "nbconvert_exporter": "python",
   "pygments_lexer": "ipython3",
   "version": "3.7.10"
  }
 },
 "nbformat": 4,
 "nbformat_minor": 5
}
