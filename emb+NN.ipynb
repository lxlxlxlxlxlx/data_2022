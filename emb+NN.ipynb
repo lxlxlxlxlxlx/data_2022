{
 "cells": [
  {
   "cell_type": "markdown",
   "id": "dc5a8d4b",
   "metadata": {},
   "source": [
    "# Train"
   ]
  },
  {
   "cell_type": "code",
   "execution_count": 99,
   "id": "ece0e669",
   "metadata": {},
   "outputs": [],
   "source": [
    "import torch\n",
    "import torch.nn as nn\n",
    "from utils import args\n",
    "from numpy import linalg as LA\n",
    "from tqdm import tqdm\n",
    "import gzip\n",
    "from metrics4rec import evaluate_all"
   ]
  },
  {
   "cell_type": "code",
   "execution_count": 40,
   "id": "75c95014",
   "metadata": {},
   "outputs": [],
   "source": [
    "device = args.device"
   ]
  },
  {
   "cell_type": "code",
   "execution_count": 108,
   "id": "1e77489b",
   "metadata": {},
   "outputs": [],
   "source": [
    "class UIPNN(nn.Module):\n",
    "    \n",
    "    def __init__(self, ent_tot, have_path=True, dim = 100, p_norm = 1, norm_flag = True, margin = None, epsilon = None):\n",
    "        super(UIPNN, self).__init__()\n",
    "        self.dim = dim\n",
    "        self.margin = margin\n",
    "        self.epsilon = epsilon\n",
    "        self.norm_flag = norm_flag\n",
    "        self.p_norm = p_norm\n",
    "        self.ent_tot = ent_tot\n",
    "        self.have_path = have_path\n",
    "\n",
    "        self.ent_embeddings = nn.Embedding(self.ent_tot, self.dim)\n",
    "        \n",
    "        nn.init.xavier_uniform_(self.ent_embeddings.weight.data)\n",
    "        \n",
    "        self.NN = nn.Sequential(nn.Linear(self.dim*(2+int(have_path)), 32),\n",
    "                                nn.ReLU(),\n",
    "#                                 nn.Linear(256, 128),\n",
    "#                                 nn.ReLU(),\n",
    "                                nn.Linear(32, 1),\n",
    "                                nn.Sigmoid()\n",
    "                               )\n",
    "        \n",
    "    def forward(self, x):\n",
    "        x = self.ent_embeddings(x)\n",
    "        x = x.reshape(-1, self.dim*(2+int(self.have_path)))\n",
    "        return self.NN(x)\n",
    "    \n",
    "    \n",
    "    "
   ]
  },
  {
   "cell_type": "code",
   "execution_count": 6,
   "id": "b8c7e1f2",
   "metadata": {},
   "outputs": [
    {
     "name": "stdout",
     "output_type": "stream",
     "text": [
      "loading transE embedding...\n",
      "<class 'numpy.ndarray'> (169931, 100)\n",
      "<class 'numpy.ndarray'> (90, 100)\n"
     ]
    }
   ],
   "source": [
    "print('loading transE embedding...')\n",
    "ckpt = torch.load(args.transE_embedding_file, map_location=torch.device('cpu'))\n",
    "embeds = ckpt['ent_embeddings.weight'].cpu().numpy()\n",
    "rels = ckpt['rel_embeddings.weight'].cpu().numpy()\n",
    "\n",
    "print(type(embeds), embeds.shape)\n",
    "print(type(rels), rels.shape)"
   ]
  },
  {
   "cell_type": "code",
   "execution_count": null,
   "id": "bf909a84",
   "metadata": {},
   "outputs": [],
   "source": [
    "def transE_eval(embeds, rels, ui_cands):\n",
    "    ui_scores = {}\n",
    "    cnt = 0\n",
    "    for uid in ui_cands:\n",
    "        iids = ui_cands[uid]\n",
    "        u_emb = embeds[uid] + rels[0]  # user + purchase\n",
    "        i_embs = embeds[iids]\n",
    "        scores = np.expand_dims(u_emb, 0) - i_embs\n",
    "        scores = LA.norm(scores, ord=1, axis=1) * (-1)  # larger is better\n",
    "        ui_scores[uid] = dict(zip(iids, scores.tolist()))\n",
    "        cnt += 1\n",
    "        if cnt % 5000 == 0:\n",
    "            print(cnt)\n",
    "    return ui_scores"
   ]
  },
  {
   "cell_type": "code",
   "execution_count": 7,
   "id": "32b136b3",
   "metadata": {},
   "outputs": [],
   "source": [
    "ur_embs = embeds[:61254] + rels[0]\n",
    "i_embs = embeds[61254:108857]"
   ]
  },
  {
   "cell_type": "code",
   "execution_count": 9,
   "id": "c231dab6",
   "metadata": {},
   "outputs": [
    {
     "name": "stdout",
     "output_type": "stream",
     "text": [
      "(47603, 100)\n"
     ]
    }
   ],
   "source": [
    "scores = ur_embs[0] - i_embs\n",
    "print(scores.shape)"
   ]
  },
  {
   "cell_type": "code",
   "execution_count": 27,
   "id": "18973f43",
   "metadata": {},
   "outputs": [
    {
     "name": "stderr",
     "output_type": "stream",
     "text": [
      "61254it [08:53, 114.91it/s]\n"
     ]
    }
   ],
   "source": [
    "k = 20 # pos neg smaple num\n",
    "train_data = []\n",
    "for uid, ur_emb in tqdm(enumerate(ur_embs)):\n",
    "    scores = ur_emb - i_embs\n",
    "    scores = LA.norm(scores, ord=1, axis=1) * (-1)\n",
    "    train_data.append(np.column_stack([np.ones(k,dtype=int)*uid, np.argpartition(scores, -k)[-k:], np.ones(k,dtype=int)]))\n",
    "    train_data.append(np.column_stack([np.ones(k,dtype=int)*uid, np.argpartition(scores, k)[:k],np.zeros(k,dtype=int)]))"
   ]
  },
  {
   "cell_type": "code",
   "execution_count": 32,
   "id": "8fb1ba8f",
   "metadata": {},
   "outputs": [
    {
     "data": {
      "text/plain": [
       "(2450160, 3)"
      ]
     },
     "execution_count": 32,
     "metadata": {},
     "output_type": "execute_result"
    }
   ],
   "source": [
    "train_data2 = np.vstack(train_data)\n",
    "train_data2.shape"
   ]
  },
  {
   "cell_type": "code",
   "execution_count": 71,
   "id": "f7e3ce19",
   "metadata": {},
   "outputs": [],
   "source": [
    "class Train_DataSet(torch.utils.data.Dataset):\n",
    "    def __init__(self, data, label):\n",
    "        self.data = data\n",
    "        self.label = label.astype(np.float32)\n",
    "    def __getitem__(self, index):\n",
    "        return self.data[index], self.label[index]\n",
    "    def __len__(self):\n",
    "        return len(self.data)"
   ]
  },
  {
   "cell_type": "code",
   "execution_count": 72,
   "id": "645411ab",
   "metadata": {},
   "outputs": [],
   "source": [
    "dataset = Train_DataSet(train_data2[:,:2], train_data2[:,2:])\n",
    "train_dataloader = torch.utils.data.DataLoader(dataset, batch_size=256, shuffle=True)"
   ]
  },
  {
   "cell_type": "code",
   "execution_count": 109,
   "id": "871c375b",
   "metadata": {},
   "outputs": [],
   "source": [
    "ui_model = UIPNN(108858, have_path=False).to(device)"
   ]
  },
  {
   "cell_type": "code",
   "execution_count": 110,
   "id": "8e15b9df",
   "metadata": {
    "scrolled": true
   },
   "outputs": [
    {
     "name": "stdout",
     "output_type": "stream",
     "text": [
      "Epoch [1/2], Step [1/9571], Loss: 0.6935\n",
      "Epoch [1/2], Step [301/9571], Loss: 0.0447\n",
      "Epoch [1/2], Step [601/9571], Loss: 0.0290\n",
      "Epoch [1/2], Step [901/9571], Loss: 0.0215\n",
      "Epoch [1/2], Step [1201/9571], Loss: 0.0120\n",
      "Epoch [1/2], Step [1501/9571], Loss: 0.0117\n",
      "Epoch [1/2], Step [1801/9571], Loss: 0.0158\n",
      "Epoch [1/2], Step [2101/9571], Loss: 0.0159\n",
      "Epoch [1/2], Step [2401/9571], Loss: 0.0517\n",
      "Epoch [1/2], Step [2701/9571], Loss: 0.0204\n",
      "Epoch [1/2], Step [3001/9571], Loss: 0.0082\n",
      "Epoch [1/2], Step [3301/9571], Loss: 0.0103\n",
      "Epoch [1/2], Step [3601/9571], Loss: 0.0078\n",
      "Epoch [1/2], Step [3901/9571], Loss: 0.0007\n",
      "Epoch [1/2], Step [4201/9571], Loss: 0.0093\n",
      "Epoch [1/2], Step [4501/9571], Loss: 0.0026\n",
      "Epoch [1/2], Step [4801/9571], Loss: 0.0026\n",
      "Epoch [1/2], Step [5101/9571], Loss: 0.0077\n",
      "Epoch [1/2], Step [5401/9571], Loss: 0.0071\n",
      "Epoch [1/2], Step [5701/9571], Loss: 0.0085\n",
      "Epoch [1/2], Step [6001/9571], Loss: 0.0072\n",
      "Epoch [1/2], Step [6301/9571], Loss: 0.0025\n",
      "Epoch [1/2], Step [6601/9571], Loss: 0.0171\n",
      "Epoch [1/2], Step [6901/9571], Loss: 0.0073\n",
      "Epoch [1/2], Step [7201/9571], Loss: 0.0354\n",
      "Epoch [1/2], Step [7501/9571], Loss: 0.0114\n",
      "Epoch [1/2], Step [7801/9571], Loss: 0.0076\n",
      "Epoch [1/2], Step [8101/9571], Loss: 0.0017\n",
      "Epoch [1/2], Step [8401/9571], Loss: 0.0229\n",
      "Epoch [1/2], Step [8701/9571], Loss: 0.0005\n",
      "Epoch [1/2], Step [9001/9571], Loss: 0.0021\n",
      "Epoch [1/2], Step [9301/9571], Loss: 0.0005\n",
      "Epoch [2/2], Step [1/9571], Loss: 0.0005\n",
      "Epoch [2/2], Step [301/9571], Loss: 0.0005\n",
      "Epoch [2/2], Step [601/9571], Loss: 0.0003\n",
      "Epoch [2/2], Step [901/9571], Loss: 0.0131\n",
      "Epoch [2/2], Step [1201/9571], Loss: 0.0010\n",
      "Epoch [2/2], Step [1501/9571], Loss: 0.0008\n",
      "Epoch [2/2], Step [1801/9571], Loss: 0.0005\n",
      "Epoch [2/2], Step [2101/9571], Loss: 0.0003\n",
      "Epoch [2/2], Step [2401/9571], Loss: 0.0003\n",
      "Epoch [2/2], Step [2701/9571], Loss: 0.0007\n",
      "Epoch [2/2], Step [3001/9571], Loss: 0.0008\n",
      "Epoch [2/2], Step [3301/9571], Loss: 0.0031\n",
      "Epoch [2/2], Step [3601/9571], Loss: 0.0042\n",
      "Epoch [2/2], Step [3901/9571], Loss: 0.0088\n",
      "Epoch [2/2], Step [4201/9571], Loss: 0.0260\n",
      "Epoch [2/2], Step [4501/9571], Loss: 0.0195\n",
      "Epoch [2/2], Step [4801/9571], Loss: 0.0049\n",
      "Epoch [2/2], Step [5101/9571], Loss: 0.0041\n",
      "Epoch [2/2], Step [5401/9571], Loss: 0.0039\n",
      "Epoch [2/2], Step [5701/9571], Loss: 0.0016\n",
      "Epoch [2/2], Step [6001/9571], Loss: 0.0116\n",
      "Epoch [2/2], Step [6301/9571], Loss: 0.0050\n",
      "Epoch [2/2], Step [6601/9571], Loss: 0.0052\n",
      "Epoch [2/2], Step [6901/9571], Loss: 0.0120\n",
      "Epoch [2/2], Step [7201/9571], Loss: 0.0012\n",
      "Epoch [2/2], Step [7501/9571], Loss: 0.0031\n",
      "Epoch [2/2], Step [7801/9571], Loss: 0.0004\n",
      "Epoch [2/2], Step [8101/9571], Loss: 0.0049\n",
      "Epoch [2/2], Step [8401/9571], Loss: 0.0020\n",
      "Epoch [2/2], Step [8701/9571], Loss: 0.0013\n",
      "Epoch [2/2], Step [9001/9571], Loss: 0.0212\n",
      "Epoch [2/2], Step [9301/9571], Loss: 0.0121\n"
     ]
    }
   ],
   "source": [
    "num_epochs = 2\n",
    "lr = 1e-3\n",
    "wd = 1e-6\n",
    "criterion = nn.BCELoss()\n",
    "optimizer = torch.optim.Adam(ui_model.parameters(), lr=lr, weight_decay=wd)\n",
    "for epoch in range(num_epochs):\n",
    "    for i, (x, label) in enumerate(train_dataloader):\n",
    "        score = ui_model(x.to(device))\n",
    "        label = label.to(device)\n",
    "        loss = criterion(score, label)\n",
    "        optimizer.zero_grad()\n",
    "        loss.backward()\n",
    "        optimizer.step()\n",
    "        if i % 300 == 0:\n",
    "            print('Epoch [{}/{}], Step [{}/{}], Loss: {:.4f}' \n",
    "                  .format(epoch+1, num_epochs, i+1, len(train_dataloader), loss.item()))"
   ]
  },
  {
   "cell_type": "markdown",
   "id": "06905b6e",
   "metadata": {},
   "source": [
    "# Test"
   ]
  },
  {
   "cell_type": "code",
   "execution_count": 75,
   "id": "181a0e2b",
   "metadata": {},
   "outputs": [],
   "source": [
    "def load_candidate_items(args_):\n",
    "    print('loading candidate items...')\n",
    "    ui_cands = {}\n",
    "    ui_gt = {}\n",
    "    with gzip.open(args_.kg_test_candidates_file, 'rt') as f:\n",
    "       for line in f:\n",
    "           cells = line.split()\n",
    "           uid = int(cells[0])\n",
    "           item_ids = [int(i) for i in cells[1:]]\n",
    "           ui_cands[uid] = item_ids\n",
    "    #return ui_cands\n",
    "    #data = np.load(args_.kg_test_candidates_file)['candidates']\n",
    "    # ui_cands = {}\n",
    "    # ui_gt = {}\n",
    "    with open(args_.kg_test_triples_file, 'rt') as f:\n",
    "        for line in f:\n",
    "            line = line.split()\n",
    "            uid = int(line[0])\n",
    "            iid = int(line[1])\n",
    "            if uid not in ui_gt:\n",
    "                ui_gt[uid] = [iid]\n",
    "            else:\n",
    "                ui_gt[uid].append(iid)\n",
    "\n",
    "    return ui_cands, ui_gt\n"
   ]
  },
  {
   "cell_type": "code",
   "execution_count": 78,
   "id": "5e6dd31c",
   "metadata": {},
   "outputs": [
    {
     "name": "stdout",
     "output_type": "stream",
     "text": [
      "loading candidate items...\n",
      "61254\n"
     ]
    }
   ],
   "source": [
    "ui_cands, gt = load_candidate_items(args)\n",
    "print(len(ui_cands))"
   ]
  },
  {
   "cell_type": "code",
   "execution_count": null,
   "id": "88555a4d",
   "metadata": {},
   "outputs": [],
   "source": [
    "len()"
   ]
  },
  {
   "cell_type": "code",
   "execution_count": 90,
   "id": "320e4ff2",
   "metadata": {},
   "outputs": [
    {
     "data": {
      "text/plain": [
       "(1000, 2)"
      ]
     },
     "execution_count": 90,
     "metadata": {},
     "output_type": "execute_result"
    }
   ],
   "source": [
    "np.array(list(zip([0]*len(ui_cands[0]), ui_cands[0]))).shape"
   ]
  },
  {
   "cell_type": "code",
   "execution_count": 91,
   "id": "ea2e53e9",
   "metadata": {},
   "outputs": [
    {
     "data": {
      "text/plain": [
       "(61254000, 2)"
      ]
     },
     "execution_count": 91,
     "metadata": {},
     "output_type": "execute_result"
    }
   ],
   "source": [
    "ui = np.zeros((len(ui_cands)*1000, 2), dtype=np.int)\n",
    "for i, u in enumerate(ui_cands):\n",
    "    ui[1000*i:1000*(i+1), 0] = u\n",
    "    ui[1000*i:1000*(i+1), 1] = ui_cands[u]\n",
    "ui.shape"
   ]
  },
  {
   "cell_type": "code",
   "execution_count": 111,
   "id": "cdae67b3",
   "metadata": {},
   "outputs": [],
   "source": [
    "def ui_eval(X):\n",
    "    print('cal ui score...')\n",
    "    #model = torch.load(args.rec_ui_model_path, map_location=torch.device(device))\n",
    "    model = ui_model.to('cpu')\n",
    "    #print(model.device())\n",
    "    model.eval()\n",
    "    with torch.no_grad():\n",
    "        scores = model(torch.from_numpy(X))\n",
    "    return dict_scores(ui, scores)\n",
    "\n",
    "def dict_scores(ui, scores):\n",
    "    print('dicting score...')\n",
    "    ui_scores = {}\n",
    "    for i, u in enumerate(ui[::1000][:,0].flatten()):\n",
    "        ui_scores[u] = dict(zip(ui[i*1000:(i+1)*1000,1].tolist(), scores[i*1000:(i+1)*1000].tolist()))\n",
    "    return ui_scores"
   ]
  },
  {
   "cell_type": "code",
   "execution_count": 112,
   "id": "20e2fb6b",
   "metadata": {},
   "outputs": [
    {
     "name": "stdout",
     "output_type": "stream",
     "text": [
      "cal ui score...\n",
      "dicting score...\n",
      "evaluating scores...\n",
      "\n",
      "NDCG@10\tRec@10\tHits@10\tPrec@10\tMAP@10\tMRR@10\n",
      "0.0093\t0.0100\t0.0202\t0.0020\t0.0060\t0.0060\n"
     ]
    },
    {
     "data": {
      "text/plain": [
       "('\\nNDCG@10\\tRec@10\\tHits@10\\tPrec@10\\tMAP@10\\tMRR@10\\n0.0093\\t0.0100\\t0.0202\\t0.0020\\t0.0060\\t0.0060',\n",
       " {'ndcg': 0.009266310105280604,\n",
       "  'map': 0.006032599231614806,\n",
       "  'recall': 0.00995696783688287,\n",
       "  'precision': 0.002034152871649153,\n",
       "  'mrr': 0.006030594179531392,\n",
       "  'hit': 0.020210925000816272})"
      ]
     },
     "execution_count": 112,
     "metadata": {},
     "output_type": "execute_result"
    }
   ],
   "source": [
    "ui_scores = ui_eval(ui)\n",
    "print('evaluating scores...')\n",
    "evaluate_all(ui_scores, gt, 10)"
   ]
  },
  {
   "cell_type": "code",
   "execution_count": null,
   "id": "dc085846",
   "metadata": {},
   "outputs": [],
   "source": []
  }
 ],
 "metadata": {
  "kernelspec": {
   "display_name": "Python env3.7",
   "language": "python",
   "name": "env3.7"
  },
  "language_info": {
   "codemirror_mode": {
    "name": "ipython",
    "version": 3
   },
   "file_extension": ".py",
   "mimetype": "text/x-python",
   "name": "python",
   "nbconvert_exporter": "python",
   "pygments_lexer": "ipython3",
   "version": "3.7.11"
  },
  "toc": {
   "base_numbering": 1,
   "nav_menu": {},
   "number_sections": true,
   "sideBar": true,
   "skip_h1_title": false,
   "title_cell": "Table of Contents",
   "title_sidebar": "Contents",
   "toc_cell": false,
   "toc_position": {},
   "toc_section_display": true,
   "toc_window_display": false
  },
  "varInspector": {
   "cols": {
    "lenName": 16,
    "lenType": 16,
    "lenVar": 40
   },
   "kernels_config": {
    "python": {
     "delete_cmd_postfix": "",
     "delete_cmd_prefix": "del ",
     "library": "var_list.py",
     "varRefreshCmd": "print(var_dic_list())"
    },
    "r": {
     "delete_cmd_postfix": ") ",
     "delete_cmd_prefix": "rm(",
     "library": "var_list.r",
     "varRefreshCmd": "cat(var_dic_list()) "
    }
   },
   "types_to_exclude": [
    "module",
    "function",
    "builtin_function_or_method",
    "instance",
    "_Feature"
   ],
   "window_display": false
  }
 },
 "nbformat": 4,
 "nbformat_minor": 5
}
