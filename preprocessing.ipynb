{
 "cells": [
  {
   "cell_type": "code",
   "execution_count": 1,
   "id": "d264e087",
   "metadata": {},
   "outputs": [],
   "source": [
    "from easydict import EasyDict as edict\n",
    "\n",
    "args = edict()\n",
    "\n",
    "args.tmp_dir = \"Cell_Phones_and_Accessories\"\n",
    "args.dataset = \"Cell_Phones_and_Accessories\"\n",
    "\n",
    "# KG related files\n",
    "args.kg_users_file = '{}/kg_users_{}.txt'.format(args.tmp_dir, args.dataset)\n",
    "args.kg_items_file = '{}/kg_items_{}.txt'.format(args.tmp_dir, args.dataset)\n",
    "args.kg_entities_file = '{}/kg_entities_{}.txt'.format(args.tmp_dir, args.dataset)\n",
    "args.kg_relations_file = '{}/kg_relations_{}.txt'.format(args.tmp_dir, args.dataset)\n",
    "args.kg_train_triples_file = '{}/kg_train_triples_{}.txt'.format(args.tmp_dir, args.dataset)\n",
    "args.kg_train_gt_file = '{}/kg_train_gt_{}.txt'.format(args.tmp_dir, args.dataset)\n",
    "args.kg_other_triples_file = '{}/kg_other_triples_{}.txt'.format(args.tmp_dir, args.dataset)\n",
    "\n",
    "args.transE_embedding_file = '{}/openke/transe_epoch_100_lr_0.002.ckpt'.format(args.tmp_dir, args.dataset)"
   ]
  },
  {
   "cell_type": "code",
   "execution_count": 2,
   "id": "540e2010",
   "metadata": {},
   "outputs": [],
   "source": [
    "from os import defpath\n",
    "#from utils import args\n",
    "import numpy as np\n",
    "from collections import defaultdict\n",
    "#import torch\n",
    "from tqdm import tqdm\n",
    "\n",
    "#%%\n",
    "class KnowledgeGraph2():\n",
    "    def __init__(self, kg_file, purchase_file):\n",
    "        self.kg_file = kg_file\n",
    "        self.purchase_file = purchase_file\n",
    "        self.G = defaultdict(list)\n",
    "        self.uip = defaultdict(list) # user purchased item\n",
    "        self.ui = defaultdict(list)\n",
    "        self._load_kg()\n",
    "\n",
    "\n",
    "    def _load_kg(self):\n",
    "        with open(self.kg_file, 'r') as f:\n",
    "            for line in f:\n",
    "                k, v, r = map(int, line.rstrip().split('\\t'))\n",
    "                self.G[k].append((v,r))\n",
    "                self.G[v].append((k,r)) # reverse edge\n",
    "        with open(self.purchase_file, 'r') as f:\n",
    "            for line in f:\n",
    "                k, v, r = map(int, line.rstrip().split('\\t'))\n",
    "                self.uip[k].append((v,r))\n",
    "                self.ui[k].append(v)\n",
    "                self.G[v].append((k,r)) # reverse edge\n",
    "\n",
    "        # remove repeated edges\n",
    "        for k in self.G:\n",
    "            self.G[k] = list(set(self.G[k]))\n",
    "        for k in self.uip:\n",
    "            self.uip[k] = list(set(self.uip[k]))\n",
    "        for k in self.ui:\n",
    "            self.ui[k] = list(set(self.ui[k]))\n",
    "\n",
    "    def get_k_hop_path(self, u, k):\n",
    "        path = []\n",
    "        items = set(self.ui[u])\n",
    "        to_visit = [self.G[u].copy()]\n",
    "        current_path = [(u, -1)]\n",
    "        d = 1\n",
    "        while True:\n",
    "            if d == k:\n",
    "                for u,i in to_visit[-1]:\n",
    "                    if u in items:\n",
    "                        path.append(current_path+[(u,i)])\n",
    "                current_path.pop()\n",
    "                to_visit.pop()\n",
    "                d -= 1\n",
    "            try:\n",
    "                u, p = to_visit[-1].pop()\n",
    "                # if u, p == 149744, 32:\n",
    "                #     print(current_path)\n",
    "            except IndexError:\n",
    "                d-=1\n",
    "                try:\n",
    "                    to_visit.pop()\n",
    "                except IndexError:\n",
    "                    break\n",
    "                current_path.pop()\n",
    "                continue\n",
    "            current_path.append((u, p))\n",
    "            # to_visit.append(self.G[u].copy()+self.uip[u].copy())\n",
    "            # to_visit.append(set(list(zip(*(self.G[u].copy()+self.uip[u].copy())))[0]) - set(list(zip(*current_path)))[0])\n",
    "            to_visit.append([])\n",
    "            for uu, pp in set(self.G[u].copy()+self.uip[u].copy()):\n",
    "                if uu not in set(list(zip(*current_path))[0]):\n",
    "                    to_visit[-1].append((uu, pp))\n",
    "\n",
    "            d += 1\n",
    "        return path"
   ]
  },
  {
   "cell_type": "code",
   "execution_count": 3,
   "id": "98204ae8",
   "metadata": {},
   "outputs": [],
   "source": [
    "KG = KnowledgeGraph2(args.kg_other_triples_file, args.kg_train_triples_file)"
   ]
  },
  {
   "cell_type": "code",
   "execution_count": 110,
   "id": "2d61960e",
   "metadata": {
    "collapsed": true,
    "jupyter": {
     "outputs_hidden": true
    }
   },
   "outputs": [
    {
     "ename": "NameError",
     "evalue": "name 'KG' is not defined",
     "output_type": "error",
     "traceback": [
      "\u001b[0;31m---------------------------------------------------------------------------\u001b[0m",
      "\u001b[0;31mNameError\u001b[0m                                 Traceback (most recent call last)",
      "\u001b[0;32m/tmp/ipykernel_17103/2704729809.py\u001b[0m in \u001b[0;36m<module>\u001b[0;34m\u001b[0m\n\u001b[0;32m----> 1\u001b[0;31m \u001b[0mKG\u001b[0m\u001b[0;34m.\u001b[0m\u001b[0mui\u001b[0m\u001b[0;34m[\u001b[0m\u001b[0;36m0\u001b[0m\u001b[0;34m]\u001b[0m\u001b[0;34m\u001b[0m\u001b[0;34m\u001b[0m\u001b[0m\n\u001b[0m",
      "\u001b[0;31mNameError\u001b[0m: name 'KG' is not defined"
     ]
    }
   ],
   "source": [
    "KG.ui[0]"
   ]
  },
  {
   "cell_type": "code",
   "execution_count": 6,
   "id": "febda29f",
   "metadata": {},
   "outputs": [],
   "source": [
    "from threading import Thread\n",
    "import pickle"
   ]
  },
  {
   "cell_type": "code",
   "execution_count": 33,
   "id": "96c3047a",
   "metadata": {},
   "outputs": [],
   "source": [
    "def f(i):\n",
    "    b = []\n",
    "    u = list(KG.ui.keys())[i::k]\n",
    "    for uu in u:\n",
    "        a = KG.get_k_hop_path(uu,3)\n",
    "        if a:\n",
    "            b.append(a)\n",
    "    return b"
   ]
  },
  {
   "cell_type": "code",
   "execution_count": 34,
   "id": "e8d99920",
   "metadata": {},
   "outputs": [
    {
     "name": "stdout",
     "output_type": "stream",
     "text": [
      "15543.388068199158\n"
     ]
    }
   ],
   "source": [
    "from time import time\n",
    "from  multiprocessing import Process,Pool\n",
    "k=8\n",
    "list(KG.ui.keys())[::k]\n",
    "t = []\n",
    "result = []\n",
    "start = time()\n",
    "pool = Pool(k)\n",
    "for i in range(k):\n",
    "    #t.append(Thread(target=f, args=(list(KG.ui.keys())[i::k])))\n",
    "    t.append(pool.apply_async(func=f, args=(i,)))\n",
    "    #t[-1].setDaemon(True)\n",
    "\n",
    "pool.close()\n",
    "pool.join()\n",
    "for tt in t:\n",
    "    result += tt.get()\n",
    "print(time()-start)"
   ]
  },
  {
   "cell_type": "code",
   "execution_count": 38,
   "id": "8d216b52",
   "metadata": {},
   "outputs": [
    {
     "data": {
      "text/plain": [
       "4.3175"
      ]
     },
     "execution_count": 38,
     "metadata": {},
     "output_type": "execute_result"
    }
   ],
   "source": [
    "15543/60/60"
   ]
  },
  {
   "cell_type": "code",
   "execution_count": 7,
   "id": "40d01bc3",
   "metadata": {},
   "outputs": [
    {
     "name": "stdout",
     "output_type": "stream",
     "text": [
      "0.85756516456604\n"
     ]
    }
   ],
   "source": [
    "from time import time\n",
    "k=6\n",
    "list(KG.ui.keys())[::k]\n",
    "t = []\n",
    "result = []\n",
    "start = time()\n",
    "for i in range(k):\n",
    "    #t.append(Thread(target=f, args=(list(KG.ui.keys())[i::k])))\n",
    "    t.append(Thread(target=f, args=(i,)))\n",
    "    #t[-1].setDaemon(True)\n",
    "    t[-1].start()\n",
    "\n",
    "# for tt in t:\n",
    "#     tt.join()\n",
    "print(time()-start)\n",
    "# for tt in t:\n",
    "#     result = result + tt.getResult()"
   ]
  },
  {
   "cell_type": "code",
   "execution_count": 109,
   "id": "00472e3f",
   "metadata": {},
   "outputs": [
    {
     "data": {
      "text/plain": [
       "60292"
      ]
     },
     "execution_count": 109,
     "metadata": {},
     "output_type": "execute_result"
    }
   ],
   "source": [
    "len(result)"
   ]
  },
  {
   "cell_type": "code",
   "execution_count": 88,
   "id": "1f2ea9a1",
   "metadata": {},
   "outputs": [
    {
     "data": {
      "text/plain": [
       "67"
      ]
     },
     "execution_count": 88,
     "metadata": {},
     "output_type": "execute_result"
    }
   ],
   "source": [
    "len(result[135])"
   ]
  },
  {
   "cell_type": "code",
   "execution_count": 37,
   "id": "7843e7d4",
   "metadata": {},
   "outputs": [],
   "source": [
    "with open('all_path.txt','wb') as fp:\n",
    "    pickle.dump(result, fp)"
   ]
  },
  {
   "cell_type": "code",
   "execution_count": 7,
   "id": "6a3159ec",
   "metadata": {},
   "outputs": [],
   "source": [
    "with open('all_path.txt','rb') as fp:\n",
    "    result = pickle.load(fp)"
   ]
  },
  {
   "cell_type": "code",
   "execution_count": 14,
   "id": "9d150da6",
   "metadata": {},
   "outputs": [],
   "source": [
    "import torch\n",
    "import itertools"
   ]
  },
  {
   "cell_type": "code",
   "execution_count": 15,
   "id": "4138581d",
   "metadata": {},
   "outputs": [
    {
     "name": "stdout",
     "output_type": "stream",
     "text": [
      "<class 'numpy.ndarray'> (169331, 100)\n",
      "<class 'numpy.ndarray'> (45, 100)\n"
     ]
    }
   ],
   "source": [
    "ckpt = torch.load(args.transE_embedding_file, map_location=torch.device('cpu'))\n",
    "embeds = ckpt['ent_embeddings.weight'].cpu().numpy()\n",
    "rels = ckpt['rel_embeddings.weight'].cpu().numpy()\n",
    "print(type(embeds), embeds.shape)\n",
    "print(type(rels), rels.shape)"
   ]
  },
  {
   "cell_type": "code",
   "execution_count": 10,
   "id": "f44f646e",
   "metadata": {},
   "outputs": [],
   "source": [
    "chain = itertools.chain(*result)\n",
    "re = list(chain)"
   ]
  },
  {
   "cell_type": "code",
   "execution_count": 13,
   "id": "f39508a2",
   "metadata": {},
   "outputs": [
    {
     "data": {
      "text/plain": [
       "(18848774, 4, 2)"
      ]
     },
     "execution_count": 13,
     "metadata": {},
     "output_type": "execute_result"
    }
   ],
   "source": [
    "re = np.array(re, dtype=int)\n",
    "re.shape"
   ]
  },
  {
   "cell_type": "code",
   "execution_count": 91,
   "id": "cc495bf8",
   "metadata": {},
   "outputs": [
    {
     "data": {
      "text/plain": [
       "array([[     0,     -1],\n",
       "       [160426,     10],\n",
       "       [ 10157,     10],\n",
       "       [ 90652,      0]])"
      ]
     },
     "execution_count": 91,
     "metadata": {},
     "output_type": "execute_result"
    }
   ],
   "source": [
    "re[0]"
   ]
  },
  {
   "cell_type": "code",
   "execution_count": 22,
   "id": "bd3d5a17",
   "metadata": {},
   "outputs": [],
   "source": [
    "nodes = re[:,:,0]\n",
    "paths = re[:,:,1]"
   ]
  },
  {
   "cell_type": "code",
   "execution_count": 92,
   "id": "f12aefc6",
   "metadata": {},
   "outputs": [],
   "source": [
    "dist = embeds[nodes[:,1:]] - embeds[nodes[:,:-1]] - rels[paths[:,1:]] # a->b  a+r=b\n",
    "dist = np.sum(np.linalg.norm(dist,ord=1, axis=-1), axis=-1) ###L1"
   ]
  },
  {
   "cell_type": "code",
   "execution_count": 93,
   "id": "4fd52a10",
   "metadata": {},
   "outputs": [
    {
     "data": {
      "text/plain": [
       "(18848774,)"
      ]
     },
     "execution_count": 93,
     "metadata": {},
     "output_type": "execute_result"
    }
   ],
   "source": [
    "dist.shape"
   ]
  },
  {
   "cell_type": "code",
   "execution_count": 94,
   "id": "96ad18ad",
   "metadata": {},
   "outputs": [
    {
     "data": {
      "text/plain": [
       "array([47.421547, 46.093384, 46.798183, ..., 49.559258, 55.071545,\n",
       "       47.326683], dtype=float32)"
      ]
     },
     "execution_count": 94,
     "metadata": {},
     "output_type": "execute_result"
    }
   ],
   "source": [
    "dist"
   ]
  },
  {
   "cell_type": "code",
   "execution_count": 95,
   "id": "d7a96456",
   "metadata": {},
   "outputs": [],
   "source": [
    "import numpy_indexed as npi\n",
    "ui, idx = npi.group_by(re[:,[0,3],0]).argmin(dist)"
   ]
  },
  {
   "cell_type": "code",
   "execution_count": 96,
   "id": "6f055eb3",
   "metadata": {},
   "outputs": [],
   "source": [
    "opti_paths = re[idx]"
   ]
  },
  {
   "cell_type": "code",
   "execution_count": 97,
   "id": "a17270ec",
   "metadata": {},
   "outputs": [],
   "source": [
    "def represent_avg(v):\n",
    "    return np.average(v, axis=-2)"
   ]
  },
  {
   "cell_type": "code",
   "execution_count": 98,
   "id": "3731c109",
   "metadata": {},
   "outputs": [
    {
     "data": {
      "text/plain": [
       "(321053, 4, 2)"
      ]
     },
     "execution_count": 98,
     "metadata": {},
     "output_type": "execute_result"
    }
   ],
   "source": [
    "opti_paths.shape"
   ]
  },
  {
   "cell_type": "code",
   "execution_count": 99,
   "id": "cdd921ed",
   "metadata": {},
   "outputs": [
    {
     "data": {
      "text/plain": [
       "array([[     0,     -1],\n",
       "       [115820,      1],\n",
       "       [ 10164,      1],\n",
       "       [ 68872,      0]])"
      ]
     },
     "execution_count": 99,
     "metadata": {},
     "output_type": "execute_result"
    }
   ],
   "source": [
    "opti_paths[0]"
   ]
  },
  {
   "cell_type": "code",
   "execution_count": 100,
   "id": "8d1b281c",
   "metadata": {},
   "outputs": [],
   "source": [
    "np.save('inter_data/opti_paths.npy',opti_paths)"
   ]
  },
  {
   "cell_type": "code",
   "execution_count": 101,
   "id": "6ca5a911",
   "metadata": {},
   "outputs": [],
   "source": [
    "nodes_emb = embeds[opti_paths[:,:,0]]\n",
    "edges_emb = rels[opti_paths[:,1:,1]]"
   ]
  },
  {
   "cell_type": "code",
   "execution_count": 102,
   "id": "c0e62844",
   "metadata": {},
   "outputs": [],
   "source": [
    "opti_paths_emb = np.concatenate([nodes_emb, edges_emb],axis=1)"
   ]
  },
  {
   "cell_type": "code",
   "execution_count": 103,
   "id": "70a9c107",
   "metadata": {},
   "outputs": [],
   "source": [
    "rep = represent_avg(opti_paths_emb)"
   ]
  },
  {
   "cell_type": "code",
   "execution_count": 104,
   "id": "363a6889",
   "metadata": {},
   "outputs": [
    {
     "data": {
      "text/plain": [
       "(321053, 100)"
      ]
     },
     "execution_count": 104,
     "metadata": {},
     "output_type": "execute_result"
    }
   ],
   "source": [
    "rep.shape"
   ]
  },
  {
   "cell_type": "code",
   "execution_count": 105,
   "id": "7581d079",
   "metadata": {},
   "outputs": [],
   "source": [
    "np.save('inter_data/opti_path_rep.npy',rep)"
   ]
  },
  {
   "cell_type": "markdown",
   "id": "da812edf",
   "metadata": {},
   "source": [
    "# model.py"
   ]
  },
  {
   "cell_type": "code",
   "execution_count": 83,
   "id": "743acb73",
   "metadata": {},
   "outputs": [
    {
     "data": {
      "text/plain": [
       "array([[    0, 68872],\n",
       "       [    0, 90652],\n",
       "       [    0, 99801],\n",
       "       ...,\n",
       "       [60927, 95618],\n",
       "       [60927, 92038],\n",
       "       [61183, 87825]])"
      ]
     },
     "execution_count": 83,
     "metadata": {},
     "output_type": "execute_result"
    }
   ],
   "source": [
    "opti_paths[:,[0,-1],0]"
   ]
  },
  {
   "cell_type": "code",
   "execution_count": null,
   "id": "3b8ed84a",
   "metadata": {},
   "outputs": [],
   "source": []
  }
 ],
 "metadata": {
  "environment": {
   "name": "common-cpu.m79",
   "type": "gcloud",
   "uri": "gcr.io/deeplearning-platform-release/base-cpu:m79"
  },
  "kernelspec": {
   "display_name": "Python 3",
   "language": "python",
   "name": "python3"
  },
  "language_info": {
   "codemirror_mode": {
    "name": "ipython",
    "version": 3
   },
   "file_extension": ".py",
   "mimetype": "text/x-python",
   "name": "python",
   "nbconvert_exporter": "python",
   "pygments_lexer": "ipython3",
   "version": "3.7.10"
  }
 },
 "nbformat": 4,
 "nbformat_minor": 5
}
